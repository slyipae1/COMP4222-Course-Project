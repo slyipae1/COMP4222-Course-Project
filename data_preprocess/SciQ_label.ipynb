{
 "cells": [
  {
   "cell_type": "code",
   "execution_count": 5,
   "metadata": {},
   "outputs": [],
   "source": [
    "import pandas as pd\n",
    "\n",
    "def transform_data(file_path, context_type):\n",
    "    # Load the data\n",
    "    df = pd.read_csv(file_path, header=None)\n",
    "    \n",
    "    # Initialize lists to store the transformed data\n",
    "    qids, ans, labels = [], [], []\n",
    "    \n",
    "    # Define the label based on context type\n",
    "    if context_type == 'no_context':\n",
    "        label_list = [1, 0, 0, 0, 0]\n",
    "    elif context_type == 'with_context':\n",
    "        label_list = [2, 0, 0, 0, 0]\n",
    "    \n",
    "    # Process each row in the dataframe\n",
    "    for index, row in df.iterrows():\n",
    "        qid = row[0]\n",
    "        sentences = row[1].split('\\\\n')  # Split sentences by newline\n",
    "        \n",
    "        for i, sentence in enumerate(sentences):\n",
    "            qids.append(qid)\n",
    "            ans.append(sentence)\n",
    "            labels.append(label_list[i])\n",
    "    \n",
    "    # Create a new dataframe for the transformed data\n",
    "    transformed_df = pd.DataFrame({'qid': qids, 'ans': ans, 'label': labels})\n",
    "    \n",
    "    return transformed_df\n",
    "\n",
    "# Transform data for both CSV files\n",
    "no_context_df = transform_data('no_context.csv', 'no_context')\n",
    "with_context_df = transform_data('with_context.csv', 'with_context')\n",
    "\n",
    "# Save the transformed data to CSV files\n",
    "no_context_df.to_csv('transformed_no_context.csv', index=False)\n",
    "with_context_df.to_csv('transformed_with_context.csv', index=False)"
   ]
  }
 ],
 "metadata": {
  "kernelspec": {
   "display_name": "halluenv",
   "language": "python",
   "name": "python3"
  },
  "language_info": {
   "codemirror_mode": {
    "name": "ipython",
    "version": 3
   },
   "file_extension": ".py",
   "mimetype": "text/x-python",
   "name": "python",
   "nbconvert_exporter": "python",
   "pygments_lexer": "ipython3",
   "version": "3.10.13"
  }
 },
 "nbformat": 4,
 "nbformat_minor": 2
}
